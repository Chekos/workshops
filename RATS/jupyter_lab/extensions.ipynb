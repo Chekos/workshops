{
 "cells": [
  {
   "cell_type": "markdown",
   "metadata": {},
   "source": [
    "# Installing extensions on Jupyter Lab\n",
    "\n",
    "*** \n",
    "`jupyter lab` is a very customizable environment and you can easily install other people's *customizations* (known as `labextensions`) very easily."
   ]
  },
  {
   "cell_type": "markdown",
   "metadata": {},
   "source": [
    "On the left-hand menu you'll see we have a `.geojson` file. `JSON` is short-hand for `JavaScript Object Notation`, it is just a common format to write a file (just like `.csv` is *comma separated values*). `GeoJSON` files are `JSON` files that have also geographic features like longitude and latitude. \n",
    "\n",
    "If you double-click that `.geojson` file you'll open up a text editor. `.geojson` files aren't really meant to be read by humans. They are a common format to share geo-data between applications and because of this someone put together a `labextension` that will render `.geojson` files in a way humans can actually interpret. \n",
    "\n",
    "To install this `labextension` run the following code in a `cell`\n",
    "```python\n",
    "!jupyter labextension install @jupyterlab/geojson-extension\n",
    "```"
   ]
  },
  {
   "cell_type": "code",
   "execution_count": null,
   "metadata": {},
   "outputs": [],
   "source": []
  },
  {
   "cell_type": "markdown",
   "metadata": {},
   "source": [
    "Another way to install it is to write that code directly into a `terminal` window without the \"!\" (check out the other [`notebook` explaining that](../example/install_R.ipynb)).\n",
    "\n",
    "```\n",
    "jupyter labextension install @jupyterlab/geojson-extension\n",
    "```"
   ]
  },
  {
   "cell_type": "markdown",
   "metadata": {},
   "source": [
    "***\n",
    "When it's done installing refresh your browser and the double-click (or drag and drop) that `.geojson` file. The logo next to the name should be a little different signaling that the extension is working"
   ]
  }
 ],
 "metadata": {
  "kernelspec": {
   "display_name": "Python 3",
   "language": "python",
   "name": "python3"
  },
  "language_info": {
   "codemirror_mode": {
    "name": "ipython",
    "version": 3
   },
   "file_extension": ".py",
   "mimetype": "text/x-python",
   "name": "python",
   "nbconvert_exporter": "python",
   "pygments_lexer": "ipython3",
   "version": "3.6.3"
  }
 },
 "nbformat": 4,
 "nbformat_minor": 2
}
