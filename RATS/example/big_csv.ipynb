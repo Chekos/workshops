{
 "cells": [
  {
   "cell_type": "markdown",
   "metadata": {},
   "source": [
    "# Creating a super big CSV file"
   ]
  },
  {
   "cell_type": "markdown",
   "metadata": {},
   "source": [
    "This notebook will create a 10,000,000 row csv file for you."
   ]
  },
  {
   "cell_type": "markdown",
   "metadata": {},
   "source": [
    "*** \n",
    "First we `import` the necessary libraries."
   ]
  },
  {
   "cell_type": "code",
   "execution_count": null,
   "metadata": {},
   "outputs": [],
   "source": [
    "import pandas as pd\n",
    "import numpy as np"
   ]
  },
  {
   "cell_type": "markdown",
   "metadata": {},
   "source": [
    "***\n",
    "Then we will create 5 `arrays` (or `lists`) of 10,000,000 items each.\n",
    "\n",
    "`pseudo_name` is grabbing 3 random integers from 65 to 91 (non-inclusive for the `high` bound) and `mapping` those to their ASCII character value. It's a little confusing but it's more efficient to come up with 3 random integers than 3 random characters, computationally speaking.\n",
    "\n",
    "`pseudo_X` are just grabbing random integers between the `low` and `high` bound of each. `size =` indicates the size of the array `10 ** 7` means $10^7$"
   ]
  },
  {
   "cell_type": "code",
   "execution_count": null,
   "metadata": {},
   "outputs": [],
   "source": [
    "pseudo_name = [''.join(map(chr, np.random.randint(65, 91,3))) for i in range( 10 ** 7 )]\n",
    "pseudo_age = np.random.randint(low = 25, high = 66, size = 10 ** 7)\n",
    "pseudo_income = np.random.randint(low = 5000, high = 150001, size = 10 ** 7)\n",
    "pseudo_family_size = np.random.randint(low = 1, high = 6, size = 10 ** 7)\n",
    "pseudo_highly_educated = np.random.randint(low = 0, high = 2, size = 10 ** 7)"
   ]
  },
  {
   "cell_type": "code",
   "execution_count": null,
   "metadata": {},
   "outputs": [],
   "source": [
    "df = pd.DataFrame({\n",
    "    'name': pseudo_name, \n",
    "    'age': pseudo_age,\n",
    "    'income': pseudo_income,\n",
    "    'family_size': pseudo_family_size,\n",
    "    'pseudo_highly_educated': pseudo_highly_educated,\n",
    "    })"
   ]
  },
  {
   "cell_type": "markdown",
   "metadata": {},
   "source": [
    "This will save the `DataFrame` to a CSV file named `fake_data.csv`. `encoding` and `index` are optional values. I use `encoding = 'utf-8'` when any `strings` with accents/tildes in my data are read with the correct `characters` (not necessary in this example but still good practice). `index = False` tells `pandas` to not save a column in the CSV for the `index` (`pandas DataFrames` are assigned an automatic index enumerating the number of rows - just like excel but if you save it with `index = True`, which is the default, your CSV file will have a column with just 0 to N)."
   ]
  },
  {
   "cell_type": "code",
   "execution_count": null,
   "metadata": {},
   "outputs": [],
   "source": [
    "df.to_csv('fake_data.csv', encoding = 'utf-8', index = False,)"
   ]
  },
  {
   "cell_type": "markdown",
   "metadata": {},
   "source": [
    "There is no reason to have a 10,000,000 row file of fake data so you can delete it after this but drag the `.csv` file from the left-hand menu into this working area. After a few seconds you can see the file has been rendered and you can scroll up and down smoothly. Try that in excel!"
   ]
  }
 ],
 "metadata": {
  "kernelspec": {
   "display_name": "Python 3",
   "language": "python",
   "name": "python3"
  },
  "language_info": {
   "codemirror_mode": {
    "name": "ipython",
    "version": 3
   },
   "file_extension": ".py",
   "mimetype": "text/x-python",
   "name": "python",
   "nbconvert_exporter": "python",
   "pygments_lexer": "ipython3",
   "version": "3.6.3"
  }
 },
 "nbformat": 4,
 "nbformat_minor": 2
}
