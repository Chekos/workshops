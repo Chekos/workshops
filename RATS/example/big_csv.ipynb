{
 "cells": [
  {
   "cell_type": "markdown",
   "metadata": {},
   "source": [
    "# Creating a super big CSV file"
   ]
  },
  {
   "cell_type": "code",
   "execution_count": 1,
   "metadata": {},
   "outputs": [],
   "source": [
    "import pandas as pd\n",
    "import numpy as np"
   ]
  },
  {
   "cell_type": "code",
   "execution_count": 4,
   "metadata": {},
   "outputs": [],
   "source": [
    "pseudo_name = [''.join(map(chr, np.random.randint(65, 91,3))) for i in range( 10 ** 7 )]\n",
    "pseudo_age = np.random.randint(low = 25, high = 66, size = 10 ** 7)\n",
    "pseudo_income = np.random.randint(low = 5000, high = 150001, size = 10 ** 7)\n",
    "pseudo_family_size = np.random.randint(low = 1, high = 6, size = 10 ** 7)\n",
    "pseudo_highly_educated = np.random.randint(low = 0, high = 2, size = 10 ** 7)"
   ]
  },
  {
   "cell_type": "code",
   "execution_count": 5,
   "metadata": {},
   "outputs": [],
   "source": [
    "df = pd.DataFrame({\n",
    "    'name': pseudo_name, \n",
    "    'age': pseudo_age,\n",
    "    'income': pseudo_income,\n",
    "    'family_size': pseudo_family_size,\n",
    "    'pseudo_highly_educated': pseudo_highly_educated,\n",
    "    })"
   ]
  },
  {
   "cell_type": "code",
   "execution_count": 8,
   "metadata": {},
   "outputs": [],
   "source": [
    "df.to_csv('fake_data.csv', encoding = 'utf-8', index = False,)"
   ]
  }
 ],
 "metadata": {
  "kernelspec": {
   "display_name": "Python 3",
   "language": "python",
   "name": "python3"
  },
  "language_info": {
   "codemirror_mode": {
    "name": "ipython",
    "version": 3
   },
   "file_extension": ".py",
   "mimetype": "text/x-python",
   "name": "python",
   "nbconvert_exporter": "python",
   "pygments_lexer": "ipython3",
   "version": "3.6.3"
  }
 },
 "nbformat": 4,
 "nbformat_minor": 2
}
