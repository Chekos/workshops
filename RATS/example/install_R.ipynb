{
 "cells": [
  {
   "cell_type": "markdown",
   "metadata": {},
   "source": [
    "# Install the R kernel \n",
    "\n",
    "***\n",
    "\n",
    "The file [example_nb_r_version.ipynb](example_nb_r_version.ipynb) is an `R` notebook. This means it runs on an `R kernel` which you may or may not have installed in your computer already. \n",
    "\n",
    "If you haven't you can run the following command in a cell\n",
    "\n",
    "```python\n",
    "!conda install -c r r-irkernel \n",
    "```"
   ]
  },
  {
   "cell_type": "markdown",
   "metadata": {},
   "source": [
    "***\n",
    "Try it below!"
   ]
  },
  {
   "cell_type": "code",
   "execution_count": null,
   "metadata": {},
   "outputs": [],
   "source": []
  },
  {
   "cell_type": "markdown",
   "metadata": {},
   "source": [
    "Another way to do this would be to `launch` a `terminal` and run the same code without \"!\" <br>\n",
    "That exclamation mark is only telling the `jupyter notebook` that this is a command for the `terminal`. It's useful if you don't want to leave your notebook environment to launch a `terminal` to run some code. <br>\n",
    "Try installing `R`'s package `tidyverse` through a `terminal` window.\n",
    "> *The 'tidyverse' is a set of packages that work in harmony because they share common data representations and 'API' design. This package is designed to make it easy to install and load multiple 'tidyverse' packages in a single step. Learn more about the 'tidyverse' at <https://tidyverse.org>.*\n",
    "\n",
    "Launch a `terminal` window and run the following code:\n",
    "```\n",
    "conda install -c r r-tidyverse \n",
    "```"
   ]
  }
 ],
 "metadata": {
  "kernelspec": {
   "display_name": "Python 3",
   "language": "python",
   "name": "python3"
  },
  "language_info": {
   "codemirror_mode": {
    "name": "ipython",
    "version": 3
   },
   "file_extension": ".py",
   "mimetype": "text/x-python",
   "name": "python",
   "nbconvert_exporter": "python",
   "pygments_lexer": "ipython3",
   "version": "3.6.3"
  }
 },
 "nbformat": 4,
 "nbformat_minor": 2
}
