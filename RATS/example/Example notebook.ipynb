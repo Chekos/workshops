{
 "cells": [
  {
   "cell_type": "markdown",
   "metadata": {},
   "source": [
    "Hi Everyone\n",
    "\n",
    "## This is a heading \n",
    "\n",
    "1. this is a list\n",
    "2. of many things\n",
    "3. many many things\n",
    "  - many many levels\n",
    "  - so many\n",
    "  \n",
    "| This is a table | with two columns |\n",
    "|---------------|-----------------:|\n",
    "| Because of those colons this column is centered | and this one is right aligned |\n",
    "| you don't even need that many dashes | you can use just three |\n",
    "\n",
    "you can write a break\n",
    "***\n",
    "you can do bold with **two** stars, italics with *one*, \n",
    "same with __underscores__ two vs _one_\n",
    "\n",
    "you'll notice that line didn't break, if you skip a line in between it reads as two different paragraphs\n",
    "but if you want a line break within a paragraph you need <br> then this is a new line but still together\n",
    "\n",
    "you can do `code references` with that backwards tilde \n",
    "\n",
    "to run this cell you can click **Run** in the menu bar up top or use:\n",
    "1. `shift + tab` to run this cell and move on to the next one.\n",
    "2. `ctrl + tab` to run this cell and stay on this cell.\n",
    "3. `alt + tab` to run this cell and create a new one underneath."
   ]
  },
  {
   "cell_type": "code",
   "execution_count": 1,
   "metadata": {},
   "outputs": [],
   "source": [
    "import pandas"
   ]
  },
  {
   "cell_type": "code",
   "execution_count": 4,
   "metadata": {},
   "outputs": [
    {
     "data": {
      "text/plain": [
       "\u001b[1;31mInit signature:\u001b[0m \u001b[0mpandas\u001b[0m\u001b[1;33m.\u001b[0m\u001b[0mDataFrame\u001b[0m\u001b[1;33m(\u001b[0m\u001b[0mdata\u001b[0m\u001b[1;33m=\u001b[0m\u001b[1;32mNone\u001b[0m\u001b[1;33m,\u001b[0m \u001b[0mindex\u001b[0m\u001b[1;33m=\u001b[0m\u001b[1;32mNone\u001b[0m\u001b[1;33m,\u001b[0m \u001b[0mcolumns\u001b[0m\u001b[1;33m=\u001b[0m\u001b[1;32mNone\u001b[0m\u001b[1;33m,\u001b[0m \u001b[0mdtype\u001b[0m\u001b[1;33m=\u001b[0m\u001b[1;32mNone\u001b[0m\u001b[1;33m,\u001b[0m \u001b[0mcopy\u001b[0m\u001b[1;33m=\u001b[0m\u001b[1;32mFalse\u001b[0m\u001b[1;33m)\u001b[0m\u001b[1;33m\u001b[0m\u001b[0m\n",
       "\u001b[1;31mDocstring:\u001b[0m     \n",
       "Two-dimensional size-mutable, potentially heterogeneous tabular data\n",
       "structure with labeled axes (rows and columns). Arithmetic operations\n",
       "align on both row and column labels. Can be thought of as a dict-like\n",
       "container for Series objects. The primary pandas data structure.\n",
       "\n",
       "Parameters\n",
       "----------\n",
       "data : numpy ndarray (structured or homogeneous), dict, or DataFrame\n",
       "    Dict can contain Series, arrays, constants, or list-like objects\n",
       "\n",
       "    .. versionchanged :: 0.23.0\n",
       "       If data is a dict, argument order is maintained for Python 3.6\n",
       "       and later.\n",
       "\n",
       "index : Index or array-like\n",
       "    Index to use for resulting frame. Will default to RangeIndex if\n",
       "    no indexing information part of input data and no index provided\n",
       "columns : Index or array-like\n",
       "    Column labels to use for resulting frame. Will default to\n",
       "    RangeIndex (0, 1, 2, ..., n) if no column labels are provided\n",
       "dtype : dtype, default None\n",
       "    Data type to force. Only a single dtype is allowed. If None, infer\n",
       "copy : boolean, default False\n",
       "    Copy data from inputs. Only affects DataFrame / 2d ndarray input\n",
       "\n",
       "Examples\n",
       "--------\n",
       "Constructing DataFrame from a dictionary.\n",
       "\n",
       ">>> d = {'col1': [1, 2], 'col2': [3, 4]}\n",
       ">>> df = pd.DataFrame(data=d)\n",
       ">>> df\n",
       "   col1  col2\n",
       "0     1     3\n",
       "1     2     4\n",
       "\n",
       "Notice that the inferred dtype is int64.\n",
       "\n",
       ">>> df.dtypes\n",
       "col1    int64\n",
       "col2    int64\n",
       "dtype: object\n",
       "\n",
       "To enforce a single dtype:\n",
       "\n",
       ">>> df = pd.DataFrame(data=d, dtype=np.int8)\n",
       ">>> df.dtypes\n",
       "col1    int8\n",
       "col2    int8\n",
       "dtype: object\n",
       "\n",
       "Constructing DataFrame from numpy ndarray:\n",
       "\n",
       ">>> df2 = pd.DataFrame(np.random.randint(low=0, high=10, size=(5, 5)),\n",
       "...                    columns=['a', 'b', 'c', 'd', 'e'])\n",
       ">>> df2\n",
       "    a   b   c   d   e\n",
       "0   2   8   8   3   4\n",
       "1   4   2   9   0   9\n",
       "2   1   0   7   8   0\n",
       "3   5   1   7   1   3\n",
       "4   6   0   2   4   2\n",
       "\n",
       "See also\n",
       "--------\n",
       "DataFrame.from_records : constructor from tuples, also record arrays\n",
       "DataFrame.from_dict : from dicts of Series, arrays, or dicts\n",
       "DataFrame.from_items : from sequence of (key, value) pairs\n",
       "pandas.read_csv, pandas.read_table, pandas.read_clipboard\n",
       "\u001b[1;31mFile:\u001b[0m           c:\\users\\sanchez\\appdata\\local\\continuum\\anaconda3\\lib\\site-packages\\pandas\\core\\frame.py\n",
       "\u001b[1;31mType:\u001b[0m           type\n"
      ]
     },
     "metadata": {},
     "output_type": "display_data"
    }
   ],
   "source": [
    "pandas.DataFrame?"
   ]
  },
  {
   "cell_type": "markdown",
   "metadata": {},
   "source": [
    "# Immigration to California has steadily declined since 2000\n",
    "\n",
    "Draft: May 3rd, 2018\n",
    "\n",
    "Author: Sergio Sanchez\n",
    "\n",
    "Notes: 300-400 words. 2 charts (already selected).\n",
    "\n",
    "***\n",
    "Main points: \n",
    "1. Overall immigration to California has declined drastically since 2000\n",
    "2. Newly arrived immigrants (5 years or less) educational attainment has steadily increased across time. \n",
    "3. About half of newly arrived immigrants in 2016 had completed at least a Bachelor's degree. \n",
    "4. Asia surpassed Latin America as the #1 region of origin of recently arrived immigrants."
   ]
  },
  {
   "cell_type": "markdown",
   "metadata": {},
   "source": [
    "*** \n",
    "**Set Up**"
   ]
  },
  {
   "cell_type": "markdown",
   "metadata": {},
   "source": [
    "We need to import the libraries we will be using"
   ]
  },
  {
   "cell_type": "code",
   "execution_count": 1,
   "metadata": {},
   "outputs": [],
   "source": [
    "import pandas as pd\n",
    "import altair as alt\n",
    "from ipywidgets import interact"
   ]
  },
  {
   "cell_type": "markdown",
   "metadata": {},
   "source": [
    "We will import the csv 'immigrants blog post (clean).csv' on a `pandas` dataframe (`df`)"
   ]
  },
  {
   "cell_type": "code",
   "execution_count": 2,
   "metadata": {},
   "outputs": [],
   "source": [
    "df = pd.read_csv('immigrants blog post (clean).csv', parse_dates = ['year'], )"
   ]
  },
  {
   "cell_type": "code",
   "execution_count": 3,
   "metadata": {},
   "outputs": [
    {
     "data": {
      "text/plain": [
       "'Abroad, Ns'"
      ]
     },
     "execution_count": 3,
     "metadata": {},
     "output_type": "execute_result"
    }
   ],
   "source": [
    "def bar_chart(country):\n",
    "    '''\n",
    "    This function creates an altair barchart. Expect the variable \"country\".\n",
    "    '''\n",
    "    data = df[df['year'] > '1990-01-01'].copy()\n",
    "    data['year'] = data['year'].dt.year\n",
    "    \n",
    "    bar_chart = alt.Chart(data[data['bpld'] == country]).mark_bar().encode(\n",
    "        x = 'year:O',\n",
    "        y = 'perwt',\n",
    "    ).properties(\n",
    "        title = '{country_title}'.format(country_title = country),\n",
    "        width = 500,\n",
    "        height = 300,\n",
    "    )\n",
    "    return bar_chart\n",
    "    \n",
    "top_countries = df.groupby('bpld')['perwt'].sum().to_frame().reset_index().copy()\n",
    "top_countries = top_countries[top_countries['perwt'] >= 5000]\n",
    "top_countries = [country for country in top_countries['bpld']]\n",
    "top_countries.pop(0) # this gets rid of 'Abroad, n.s.'"
   ]
  },
  {
   "cell_type": "code",
   "execution_count": 4,
   "metadata": {},
   "outputs": [
    {
     "data": {
      "application/vnd.jupyter.widget-view+json": {
       "model_id": "a42eddd55f7e4b04863b38466482db93",
       "version_major": 2,
       "version_minor": 0
      },
      "text/plain": [
       "interactive(children=(Dropdown(description='country', options=('Afghanistan', 'Africa, Ns/Nec', 'Algeria', 'Ar…"
      ]
     },
     "metadata": {},
     "output_type": "display_data"
    }
   ],
   "source": [
    "interact(bar_chart, country = top_countries,);"
   ]
  },
  {
   "cell_type": "markdown",
   "metadata": {},
   "source": [
    "notes:\n",
    "1. add `color = alt.Color('agg educd',),`\n",
    "2. add `.interactive()`\n",
    "3. add `alt.X('year:O', axis = alt.Axis(title='Year')), <br> alt.Y('perwt:Q', axis = alt.Axis(title('Number of People')),`"
   ]
  },
  {
   "cell_type": "code",
   "execution_count": 42,
   "metadata": {},
   "outputs": [
    {
     "data": {
      "application/vnd.vegalite.v2+json": {
       "$schema": "https://vega.github.io/schema/vega-lite/v2.4.3.json",
       "config": {
        "view": {
         "height": 300,
         "width": 400
        }
       },
       "data": {
        "values": [
         {
          "Unnamed: 0": 1031,
          "agg educd": "Ba Or More",
          "bpld": "Brazil",
          "perwt": 4363,
          "year": 2000
         },
         {
          "Unnamed: 0": 1032,
          "agg educd": "Hs",
          "bpld": "Brazil",
          "perwt": 3061,
          "year": 2000
         },
         {
          "Unnamed: 0": 1033,
          "agg educd": "Some College",
          "bpld": "Brazil",
          "perwt": 12219,
          "year": 2000
         },
         {
          "Unnamed: 0": 1247,
          "agg educd": "Ba Or More",
          "bpld": "Brazil",
          "perwt": 3543,
          "year": 2001
         },
         {
          "Unnamed: 0": 1248,
          "agg educd": "Hs",
          "bpld": "Brazil",
          "perwt": 2980,
          "year": 2001
         },
         {
          "Unnamed: 0": 1249,
          "agg educd": "Less Than Hs",
          "bpld": "Brazil",
          "perwt": 525,
          "year": 2001
         },
         {
          "Unnamed: 0": 1250,
          "agg educd": "Some College",
          "bpld": "Brazil",
          "perwt": 3977,
          "year": 2001
         },
         {
          "Unnamed: 0": 1559,
          "agg educd": "Ba Or More",
          "bpld": "Brazil",
          "perwt": 3562,
          "year": 2002
         },
         {
          "Unnamed: 0": 1560,
          "agg educd": "Hs",
          "bpld": "Brazil",
          "perwt": 726,
          "year": 2002
         },
         {
          "Unnamed: 0": 1561,
          "agg educd": "Less Than Hs",
          "bpld": "Brazil",
          "perwt": 1065,
          "year": 2002
         },
         {
          "Unnamed: 0": 1562,
          "agg educd": "Some College",
          "bpld": "Brazil",
          "perwt": 4090,
          "year": 2002
         },
         {
          "Unnamed: 0": 1861,
          "agg educd": "Ba Or More",
          "bpld": "Brazil",
          "perwt": 2566,
          "year": 2003
         },
         {
          "Unnamed: 0": 1862,
          "agg educd": "Hs",
          "bpld": "Brazil",
          "perwt": 681,
          "year": 2003
         },
         {
          "Unnamed: 0": 1863,
          "agg educd": "Some College",
          "bpld": "Brazil",
          "perwt": 651,
          "year": 2003
         },
         {
          "Unnamed: 0": 2170,
          "agg educd": "Ba Or More",
          "bpld": "Brazil",
          "perwt": 4322,
          "year": 2004
         },
         {
          "Unnamed: 0": 2171,
          "agg educd": "Hs",
          "bpld": "Brazil",
          "perwt": 197,
          "year": 2004
         },
         {
          "Unnamed: 0": 2172,
          "agg educd": "Less Than Hs",
          "bpld": "Brazil",
          "perwt": 893,
          "year": 2004
         },
         {
          "Unnamed: 0": 2173,
          "agg educd": "Some College",
          "bpld": "Brazil",
          "perwt": 2697,
          "year": 2004
         },
         {
          "Unnamed: 0": 2459,
          "agg educd": "Ba Or More",
          "bpld": "Brazil",
          "perwt": 2254,
          "year": 2005
         },
         {
          "Unnamed: 0": 2460,
          "agg educd": "Hs",
          "bpld": "Brazil",
          "perwt": 1220,
          "year": 2005
         },
         {
          "Unnamed: 0": 2461,
          "agg educd": "Less Than Hs",
          "bpld": "Brazil",
          "perwt": 554,
          "year": 2005
         },
         {
          "Unnamed: 0": 2462,
          "agg educd": "Some College",
          "bpld": "Brazil",
          "perwt": 1160,
          "year": 2005
         },
         {
          "Unnamed: 0": 2868,
          "agg educd": "Ba Or More",
          "bpld": "Brazil",
          "perwt": 3423,
          "year": 2006
         },
         {
          "Unnamed: 0": 2869,
          "agg educd": "Hs",
          "bpld": "Brazil",
          "perwt": 3097,
          "year": 2006
         },
         {
          "Unnamed: 0": 2870,
          "agg educd": "Less Than Hs",
          "bpld": "Brazil",
          "perwt": 81,
          "year": 2006
         },
         {
          "Unnamed: 0": 2871,
          "agg educd": "Some College",
          "bpld": "Brazil",
          "perwt": 1006,
          "year": 2006
         },
         {
          "Unnamed: 0": 3250,
          "agg educd": "Ba Or More",
          "bpld": "Brazil",
          "perwt": 2483,
          "year": 2007
         },
         {
          "Unnamed: 0": 3251,
          "agg educd": "Hs",
          "bpld": "Brazil",
          "perwt": 1862,
          "year": 2007
         },
         {
          "Unnamed: 0": 3252,
          "agg educd": "Less Than Hs",
          "bpld": "Brazil",
          "perwt": 232,
          "year": 2007
         },
         {
          "Unnamed: 0": 3253,
          "agg educd": "Some College",
          "bpld": "Brazil",
          "perwt": 1355,
          "year": 2007
         },
         {
          "Unnamed: 0": 3641,
          "agg educd": "Ba Or More",
          "bpld": "Brazil",
          "perwt": 3434,
          "year": 2008
         },
         {
          "Unnamed: 0": 3642,
          "agg educd": "Hs",
          "bpld": "Brazil",
          "perwt": 2417,
          "year": 2008
         },
         {
          "Unnamed: 0": 3643,
          "agg educd": "Less Than Hs",
          "bpld": "Brazil",
          "perwt": 582,
          "year": 2008
         },
         {
          "Unnamed: 0": 3644,
          "agg educd": "Some College",
          "bpld": "Brazil",
          "perwt": 1345,
          "year": 2008
         },
         {
          "Unnamed: 0": 4026,
          "agg educd": "Ba Or More",
          "bpld": "Brazil",
          "perwt": 2933,
          "year": 2009
         },
         {
          "Unnamed: 0": 4027,
          "agg educd": "Hs",
          "bpld": "Brazil",
          "perwt": 1626,
          "year": 2009
         },
         {
          "Unnamed: 0": 4028,
          "agg educd": "Less Than Hs",
          "bpld": "Brazil",
          "perwt": 187,
          "year": 2009
         },
         {
          "Unnamed: 0": 4029,
          "agg educd": "Some College",
          "bpld": "Brazil",
          "perwt": 2114,
          "year": 2009
         },
         {
          "Unnamed: 0": 4387,
          "agg educd": "Ba Or More",
          "bpld": "Brazil",
          "perwt": 4730,
          "year": 2010
         },
         {
          "Unnamed: 0": 4388,
          "agg educd": "Hs",
          "bpld": "Brazil",
          "perwt": 302,
          "year": 2010
         },
         {
          "Unnamed: 0": 4389,
          "agg educd": "Less Than Hs",
          "bpld": "Brazil",
          "perwt": 643,
          "year": 2010
         },
         {
          "Unnamed: 0": 4390,
          "agg educd": "Some College",
          "bpld": "Brazil",
          "perwt": 1746,
          "year": 2010
         },
         {
          "Unnamed: 0": 4768,
          "agg educd": "Ba Or More",
          "bpld": "Brazil",
          "perwt": 4555,
          "year": 2011
         },
         {
          "Unnamed: 0": 4769,
          "agg educd": "Hs",
          "bpld": "Brazil",
          "perwt": 364,
          "year": 2011
         },
         {
          "Unnamed: 0": 4770,
          "agg educd": "Less Than Hs",
          "bpld": "Brazil",
          "perwt": 74,
          "year": 2011
         },
         {
          "Unnamed: 0": 4771,
          "agg educd": "Some College",
          "bpld": "Brazil",
          "perwt": 1112,
          "year": 2011
         },
         {
          "Unnamed: 0": 5159,
          "agg educd": "Ba Or More",
          "bpld": "Brazil",
          "perwt": 3093,
          "year": 2012
         },
         {
          "Unnamed: 0": 5160,
          "agg educd": "Hs",
          "bpld": "Brazil",
          "perwt": 910,
          "year": 2012
         },
         {
          "Unnamed: 0": 5161,
          "agg educd": "Less Than Hs",
          "bpld": "Brazil",
          "perwt": 196,
          "year": 2012
         },
         {
          "Unnamed: 0": 5162,
          "agg educd": "Some College",
          "bpld": "Brazil",
          "perwt": 1682,
          "year": 2012
         },
         {
          "Unnamed: 0": 5550,
          "agg educd": "Ba Or More",
          "bpld": "Brazil",
          "perwt": 4830,
          "year": 2013
         },
         {
          "Unnamed: 0": 5551,
          "agg educd": "Hs",
          "bpld": "Brazil",
          "perwt": 755,
          "year": 2013
         },
         {
          "Unnamed: 0": 5552,
          "agg educd": "Less Than Hs",
          "bpld": "Brazil",
          "perwt": 499,
          "year": 2013
         },
         {
          "Unnamed: 0": 5553,
          "agg educd": "Some College",
          "bpld": "Brazil",
          "perwt": 2327,
          "year": 2013
         },
         {
          "Unnamed: 0": 5933,
          "agg educd": "Ba Or More",
          "bpld": "Brazil",
          "perwt": 3992,
          "year": 2014
         },
         {
          "Unnamed: 0": 5934,
          "agg educd": "Hs",
          "bpld": "Brazil",
          "perwt": 853,
          "year": 2014
         },
         {
          "Unnamed: 0": 5935,
          "agg educd": "Less Than Hs",
          "bpld": "Brazil",
          "perwt": 254,
          "year": 2014
         },
         {
          "Unnamed: 0": 5936,
          "agg educd": "Some College",
          "bpld": "Brazil",
          "perwt": 1366,
          "year": 2014
         },
         {
          "Unnamed: 0": 6323,
          "agg educd": "Ba Or More",
          "bpld": "Brazil",
          "perwt": 5826,
          "year": 2015
         },
         {
          "Unnamed: 0": 6324,
          "agg educd": "Hs",
          "bpld": "Brazil",
          "perwt": 824,
          "year": 2015
         },
         {
          "Unnamed: 0": 6325,
          "agg educd": "Less Than Hs",
          "bpld": "Brazil",
          "perwt": 372,
          "year": 2015
         },
         {
          "Unnamed: 0": 6326,
          "agg educd": "Some College",
          "bpld": "Brazil",
          "perwt": 2256,
          "year": 2015
         },
         {
          "Unnamed: 0": 6732,
          "agg educd": "Ba Or More",
          "bpld": "Brazil",
          "perwt": 9228,
          "year": 2016
         },
         {
          "Unnamed: 0": 6733,
          "agg educd": "Hs",
          "bpld": "Brazil",
          "perwt": 260,
          "year": 2016
         },
         {
          "Unnamed: 0": 6734,
          "agg educd": "Less Than Hs",
          "bpld": "Brazil",
          "perwt": 501,
          "year": 2016
         },
         {
          "Unnamed: 0": 6735,
          "agg educd": "Some College",
          "bpld": "Brazil",
          "perwt": 3075,
          "year": 2016
         }
        ]
       },
       "encoding": {
        "x": {
         "field": "year",
         "type": "ordinal"
        },
        "y": {
         "field": "perwt",
         "type": "quantitative"
        }
       },
       "height": 300,
       "mark": "bar",
       "title": "Brazil",
       "width": 500
      },
      "text/plain": [
       "<VegaLite 2 object>\n",
       "\n",
       "If you see this message, it means the renderer has not been properly enabled\n",
       "for the frontend that you are using. For more information, see\n",
       "https://altair-viz.github.io/user_guide/troubleshooting.html\n"
      ]
     },
     "execution_count": 42,
     "metadata": {},
     "output_type": "execute_result"
    }
   ],
   "source": [
    "bar_chart(country = 'Brazil')"
   ]
  },
  {
   "cell_type": "code",
   "execution_count": null,
   "metadata": {},
   "outputs": [],
   "source": []
  }
 ],
 "metadata": {
  "kernelspec": {
   "display_name": "Python 3",
   "language": "python",
   "name": "python3"
  },
  "language_info": {
   "codemirror_mode": {
    "name": "ipython",
    "version": 3
   },
   "file_extension": ".py",
   "mimetype": "text/x-python",
   "name": "python",
   "nbconvert_exporter": "python",
   "pygments_lexer": "ipython3",
   "version": "3.6.3"
  }
 },
 "nbformat": 4,
 "nbformat_minor": 2
}
