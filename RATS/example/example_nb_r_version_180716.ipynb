{
 "cells": [
  {
   "cell_type": "markdown",
   "metadata": {},
   "source": [
    "## Agenda\n",
    "\n",
    "1. What is Anaconda, Jupyter, and the notebook environment? \n",
    "2. Definitions & Orientation\n",
    "3. Try to replicate Sergio's graphics. "
   ]
  },
  {
   "cell_type": "markdown",
   "metadata": {},
   "source": [
    "Hi Everyone! \n",
    " \n",
    "Welcome to Markdown. \n",
    "\n",
    "## This is a heading \n",
    "\n",
    "1. this is a list\n",
    "2. of many things\n",
    "3. many many things\n",
    "  - many many levels\n",
    "  - so many\n",
    "  \n",
    "| This is a table | with two columns |\n",
    "|---------------|-----------------:|\n",
    "| Because of those colons this column is centered | and this one is right aligned |\n",
    "| you don't even need that many dashes | you can use just three |\n",
    "\n",
    "you can write a break\n",
    "***\n",
    "you can do bold with **two** stars, italics with *one*, \n",
    "same with __underscores__ two vs _one_\n",
    "\n",
    "you'll notice that line didn't break, if you skip a line in between it reads as two different paragraphs\n",
    "but if you want a line break within a paragraph you need <br> then this is a new line but still together\n",
    "\n",
    "you can do `code references` with that backwards tilde \n",
    "\n",
    "to run this cell you can click **Run** in the menu bar up top or use:\n",
    "1. `shift + tab` to run this cell and move on to the next one.\n",
    "2. `ctrl + tab` to run this cell and stay on this cell.\n",
    "3. `alt + tab` to run this cell and create a new one underneath.\n",
    "\n",
    "We can also write math with $LaTeX$. So some mathematical formula looks like this: $\\sum_{n = 0}^{\\infty} \\frac{1}{n^{n-1}} = \\ldots$. \n",
    "\n",
    "But that means you gotta learn some $TeX$, of which, has a steep-ish learning curve."
   ]
  },
  {
   "cell_type": "markdown",
   "metadata": {},
   "source": [
    "## Sergio's notebook that turned into a blog post with an interactive (Tableau) graphic!"
   ]
  },
  {
   "cell_type": "markdown",
   "metadata": {},
   "source": [
    "# Immigration to California has steadily declined since 2000\n",
    "\n",
    "Draft: May 3rd, 2018\n",
    "\n",
    "Author: Sergio Sanchez\n",
    "\n",
    "Notes: 300-400 words. 2 charts (already selected).\n",
    "\n",
    "***\n",
    "Main points: \n",
    "1. Overall immigration to California has declined drastically since 2000\n",
    "2. Newly arrived immigrants (5 years or less) educational attainment has steadily increased across time. \n",
    "3. About half of newly arrived immigrants in 2016 had completed at least a Bachelor's degree. \n",
    "4. Asia surpassed Latin America as the #1 region of origin of recently arrived immigrants."
   ]
  },
  {
   "cell_type": "markdown",
   "metadata": {},
   "source": [
    "##### feel free to check out the version he did in Python, this is rewritten in R to show you the R kernel's capabilties. "
   ]
  },
  {
   "cell_type": "code",
   "execution_count": 1,
   "metadata": {},
   "outputs": [
    {
     "name": "stderr",
     "output_type": "stream",
     "text": [
      "-- Attaching packages --------------------------------------- tidyverse 1.2.1 --\n",
      "v ggplot2 2.2.1     v purrr   0.2.4\n",
      "v tibble  1.4.1     v dplyr   0.7.4\n",
      "v tidyr   0.7.2     v stringr 1.2.0\n",
      "v ggplot2 2.2.1     v forcats 0.2.0\n",
      "-- Conflicts ------------------------------------------ tidyverse_conflicts() --\n",
      "x dplyr::filter() masks stats::filter()\n",
      "x dplyr::lag()    masks stats::lag()\n"
     ]
    }
   ],
   "source": [
    "# libraries we need\n",
    "library(readr)\n",
    "library(tidyverse)\n",
    "library(ggplot2)\n",
    "\n",
    "# ppic colours palette\n",
    "ppic_palette <-  c(\"#E98426\", \"#649EA5\", \"#0D828A\", \"#776972\",\"#004A80\", \"#3E7AA8\", \"#B44B27\", \"#905A78\", \"#D2AA1D\", \"#73A57A\")"
   ]
  },
  {
   "cell_type": "code",
   "execution_count": 2,
   "metadata": {},
   "outputs": [
    {
     "name": "stderr",
     "output_type": "stream",
     "text": [
      "Warning message:\n",
      "\"Missing column names filled in: 'X1' [1]\"Parsed with column specification:\n",
      "cols(\n",
      "  X1 = col_integer(),\n",
      "  year = col_date(format = \"\"),\n",
      "  bpld = col_character(),\n",
      "  `agg educd` = col_character(),\n",
      "  perwt = col_double()\n",
      ")\n"
     ]
    }
   ],
   "source": [
    "# import data\n",
    "current_wd = \"U:\\\\CLee\\\\STATA Playground\\\\jupyter playground\\\\201807 rats talk\"\n",
    "\n",
    "immig = read_csv(file.path(current_wd, \"immigrants blog post (clean).csv\"))\n",
    "\n",
    "#col_types = cols(X1 = col_integer(), year = col_date(format = \"%Y%m%d\"))\n",
    "# , col_types =  list(col_integer(),  col_character(), col_character(), col_double()"
   ]
  },
  {
   "cell_type": "code",
   "execution_count": 3,
   "metadata": {},
   "outputs": [
    {
     "data": {
      "text/html": [
       "<table>\n",
       "<thead><tr><th scope=col>X1</th><th scope=col>year</th><th scope=col>bpld</th><th scope=col>agg educd</th><th scope=col>perwt</th></tr></thead>\n",
       "<tbody>\n",
       "\t<tr><td>0                      </td><td>1980-01-01             </td><td>Canada                 </td><td>Ba Or More             </td><td>2540                   </td></tr>\n",
       "\t<tr><td>1                      </td><td>1980-01-01             </td><td>Canada                 </td><td>Less Than Hs           </td><td>3600                   </td></tr>\n",
       "\t<tr><td>2                      </td><td>1980-01-01             </td><td>Canada                 </td><td>Some College           </td><td>3280                   </td></tr>\n",
       "\t<tr><td>3                      </td><td>1980-01-01             </td><td>St. Pierre And Miquelon</td><td>Less Than Hs           </td><td>  20                   </td></tr>\n",
       "\t<tr><td>4                      </td><td>1980-01-01             </td><td>Bermuda                </td><td>Some College           </td><td>  20                   </td></tr>\n",
       "\t<tr><td>5                      </td><td>1980-01-01             </td><td>Cape Verde             </td><td>Less Than Hs           </td><td>  40                   </td></tr>\n",
       "</tbody>\n",
       "</table>\n"
      ],
      "text/latex": [
       "\\begin{tabular}{r|lllll}\n",
       " X1 & year & bpld & agg educd & perwt\\\\\n",
       "\\hline\n",
       "\t 0                       & 1980-01-01              & Canada                  & Ba Or More              & 2540                   \\\\\n",
       "\t 1                       & 1980-01-01              & Canada                  & Less Than Hs            & 3600                   \\\\\n",
       "\t 2                       & 1980-01-01              & Canada                  & Some College            & 3280                   \\\\\n",
       "\t 3                       & 1980-01-01              & St. Pierre And Miquelon & Less Than Hs            &   20                   \\\\\n",
       "\t 4                       & 1980-01-01              & Bermuda                 & Some College            &   20                   \\\\\n",
       "\t 5                       & 1980-01-01              & Cape Verde              & Less Than Hs            &   40                   \\\\\n",
       "\\end{tabular}\n"
      ],
      "text/markdown": [
       "\n",
       "X1 | year | bpld | agg educd | perwt | \n",
       "|---|---|---|---|---|---|\n",
       "| 0                       | 1980-01-01              | Canada                  | Ba Or More              | 2540                    | \n",
       "| 1                       | 1980-01-01              | Canada                  | Less Than Hs            | 3600                    | \n",
       "| 2                       | 1980-01-01              | Canada                  | Some College            | 3280                    | \n",
       "| 3                       | 1980-01-01              | St. Pierre And Miquelon | Less Than Hs            |   20                    | \n",
       "| 4                       | 1980-01-01              | Bermuda                 | Some College            |   20                    | \n",
       "| 5                       | 1980-01-01              | Cape Verde              | Less Than Hs            |   40                    | \n",
       "\n",
       "\n"
      ],
      "text/plain": [
       "  X1 year       bpld                    agg educd    perwt\n",
       "1 0  1980-01-01 Canada                  Ba Or More   2540 \n",
       "2 1  1980-01-01 Canada                  Less Than Hs 3600 \n",
       "3 2  1980-01-01 Canada                  Some College 3280 \n",
       "4 3  1980-01-01 St. Pierre And Miquelon Less Than Hs   20 \n",
       "5 4  1980-01-01 Bermuda                 Some College   20 \n",
       "6 5  1980-01-01 Cape Verde              Less Than Hs   40 "
      ]
     },
     "metadata": {},
     "output_type": "display_data"
    }
   ],
   "source": [
    "immig %>% head()"
   ]
  },
  {
   "cell_type": "code",
   "execution_count": 39,
   "metadata": {},
   "outputs": [],
   "source": [
    "# make graphic showing countries by facet (would that be too slow?)"
   ]
  },
  {
   "cell_type": "code",
   "execution_count": 4,
   "metadata": {},
   "outputs": [
    {
     "data": {},
     "metadata": {},
     "output_type": "display_data"
    },
    {
     "data": {
      "image/png": "[encoded data removed]",
      "text/plain": [
       "plot without title"
      ]
     },
     "metadata": {},
     "output_type": "display_data",
     "source": "R display func"
    }
   ],
   "source": [
    "ggplot(data = immig, aes(x = `agg educd`, y = perwt)) + geom_bar(stat = \"identity\")\n",
    "# the graphics engine might be a little slow"
   ]
  },
  {
   "cell_type": "code",
   "execution_count": 32,
   "metadata": {},
   "outputs": [
    {
     "data": {
      "text/html": [
       "<table>\n",
       "<thead><tr><th scope=col>X1</th><th scope=col>year</th><th scope=col>bpld</th><th scope=col>agg educd</th><th scope=col>perwt</th></tr></thead>\n",
       "<tbody>\n",
       "\t<tr><td>1208             </td><td>2001-01-01       </td><td>Canada           </td><td>Ba Or More       </td><td>9702             </td></tr>\n",
       "\t<tr><td>1209             </td><td>2001-01-01       </td><td>Canada           </td><td>Hs               </td><td> 734             </td></tr>\n",
       "\t<tr><td>1210             </td><td>2001-01-01       </td><td>Canada           </td><td>Less Than Hs     </td><td>1439             </td></tr>\n",
       "\t<tr><td>1211             </td><td>2001-01-01       </td><td>Canada           </td><td>Some College     </td><td>2982             </td></tr>\n",
       "\t<tr><td>1212             </td><td>2001-01-01       </td><td>Bermuda          </td><td>Ba Or More       </td><td> 237             </td></tr>\n",
       "\t<tr><td>1213             </td><td>2001-01-01       </td><td>North America, Ns</td><td>Some College     </td><td> 215             </td></tr>\n",
       "</tbody>\n",
       "</table>\n"
      ],
      "text/latex": [
       "\\begin{tabular}{r|lllll}\n",
       " X1 & year & bpld & agg educd & perwt\\\\\n",
       "\\hline\n",
       "\t 1208              & 2001-01-01        & Canada            & Ba Or More        & 9702             \\\\\n",
       "\t 1209              & 2001-01-01        & Canada            & Hs                &  734             \\\\\n",
       "\t 1210              & 2001-01-01        & Canada            & Less Than Hs      & 1439             \\\\\n",
       "\t 1211              & 2001-01-01        & Canada            & Some College      & 2982             \\\\\n",
       "\t 1212              & 2001-01-01        & Bermuda           & Ba Or More        &  237             \\\\\n",
       "\t 1213              & 2001-01-01        & North America, Ns & Some College      &  215             \\\\\n",
       "\\end{tabular}\n"
      ],
      "text/markdown": [
       "\n",
       "X1 | year | bpld | agg educd | perwt | \n",
       "|---|---|---|---|---|---|\n",
       "| 1208              | 2001-01-01        | Canada            | Ba Or More        | 9702              | \n",
       "| 1209              | 2001-01-01        | Canada            | Hs                |  734              | \n",
       "| 1210              | 2001-01-01        | Canada            | Less Than Hs      | 1439              | \n",
       "| 1211              | 2001-01-01        | Canada            | Some College      | 2982              | \n",
       "| 1212              | 2001-01-01        | Bermuda           | Ba Or More        |  237              | \n",
       "| 1213              | 2001-01-01        | North America, Ns | Some College      |  215              | \n",
       "\n",
       "\n"
      ],
      "text/plain": [
       "  X1   year       bpld              agg educd    perwt\n",
       "1 1208 2001-01-01 Canada            Ba Or More   9702 \n",
       "2 1209 2001-01-01 Canada            Hs            734 \n",
       "3 1210 2001-01-01 Canada            Less Than Hs 1439 \n",
       "4 1211 2001-01-01 Canada            Some College 2982 \n",
       "5 1212 2001-01-01 Bermuda           Ba Or More    237 \n",
       "6 1213 2001-01-01 North America, Ns Some College  215 "
      ]
     },
     "metadata": {},
     "output_type": "display_data"
    },
    {
     "data": {
      "text/html": [
       "<table>\n",
       "<thead><tr><th scope=col>X1</th><th scope=col>year</th><th scope=col>bpld</th><th scope=col>agg educd</th><th scope=col>perwt</th></tr></thead>\n",
       "<tbody>\n",
       "\t<tr><td>1208        </td><td>2001-01-01  </td><td>Canada      </td><td>Ba Or More  </td><td> 9702       </td></tr>\n",
       "\t<tr><td>1209        </td><td>2001-01-01  </td><td>Canada      </td><td>Hs          </td><td>  734       </td></tr>\n",
       "\t<tr><td>1210        </td><td>2001-01-01  </td><td>Canada      </td><td>Less Than Hs</td><td> 1439       </td></tr>\n",
       "\t<tr><td>1211        </td><td>2001-01-01  </td><td>Canada      </td><td>Some College</td><td> 2982       </td></tr>\n",
       "\t<tr><td>1520        </td><td>2002-01-01  </td><td>Canada      </td><td>Ba Or More  </td><td>15830       </td></tr>\n",
       "\t<tr><td>1521        </td><td>2002-01-01  </td><td>Canada      </td><td>Hs          </td><td> 1416       </td></tr>\n",
       "</tbody>\n",
       "</table>\n"
      ],
      "text/latex": [
       "\\begin{tabular}{r|lllll}\n",
       " X1 & year & bpld & agg educd & perwt\\\\\n",
       "\\hline\n",
       "\t 1208         & 2001-01-01   & Canada       & Ba Or More   &  9702       \\\\\n",
       "\t 1209         & 2001-01-01   & Canada       & Hs           &   734       \\\\\n",
       "\t 1210         & 2001-01-01   & Canada       & Less Than Hs &  1439       \\\\\n",
       "\t 1211         & 2001-01-01   & Canada       & Some College &  2982       \\\\\n",
       "\t 1520         & 2002-01-01   & Canada       & Ba Or More   & 15830       \\\\\n",
       "\t 1521         & 2002-01-01   & Canada       & Hs           &  1416       \\\\\n",
       "\\end{tabular}\n"
      ],
      "text/markdown": [
       "\n",
       "X1 | year | bpld | agg educd | perwt | \n",
       "|---|---|---|---|---|---|\n",
       "| 1208         | 2001-01-01   | Canada       | Ba Or More   |  9702        | \n",
       "| 1209         | 2001-01-01   | Canada       | Hs           |   734        | \n",
       "| 1210         | 2001-01-01   | Canada       | Less Than Hs |  1439        | \n",
       "| 1211         | 2001-01-01   | Canada       | Some College |  2982        | \n",
       "| 1520         | 2002-01-01   | Canada       | Ba Or More   | 15830        | \n",
       "| 1521         | 2002-01-01   | Canada       | Hs           |  1416        | \n",
       "\n",
       "\n"
      ],
      "text/plain": [
       "  X1   year       bpld   agg educd    perwt\n",
       "1 1208 2001-01-01 Canada Ba Or More    9702\n",
       "2 1209 2001-01-01 Canada Hs             734\n",
       "3 1210 2001-01-01 Canada Less Than Hs  1439\n",
       "4 1211 2001-01-01 Canada Some College  2982\n",
       "5 1520 2002-01-01 Canada Ba Or More   15830\n",
       "6 1521 2002-01-01 Canada Hs            1416"
      ]
     },
     "metadata": {},
     "output_type": "display_data"
    }
   ],
   "source": [
    "# filter for a smaller subset \n",
    "immig_2000 = filter(immig, year > \"2000-01-01\")\n",
    "immig_2000 %>% head()\n",
    "\n",
    "immig_2000_canada = filter(immig_2000, bpld == \"Canada\")\n",
    "immig_2000_canada %>% head()"
   ]
  },
  {
   "cell_type": "code",
   "execution_count": 56,
   "metadata": {},
   "outputs": [
    {
     "data": {},
     "metadata": {},
     "output_type": "display_data"
    },
    {
     "data": {
      "image/png": "[encoded data removed]",
      "text/plain": [
       "plot without title"
      ]
     },
     "metadata": {},
     "output_type": "display_data"
    }
   ],
   "source": [
    "ggplot(data= immig_2000_canada, aes(x = year, y = perwt, fill = `agg educd`)) + geom_bar( stat = \"identity\") + \n",
    "    labs(title = \"Canada's Educated(?) Immigrants to California since 2000\", x = \"Year\") + \n",
    "    scale_fill_manual( values = ppic_palette, name = \"Education Level\", labels = c(\"Bachelor's or Higher\", \"High School\",\"Less than High School\", \"Some College\"))"
   ]
  },
  {
   "cell_type": "code",
   "execution_count": null,
   "metadata": {},
   "outputs": [],
   "source": []
  }
 ],
 "metadata": {
  "kernelspec": {
   "display_name": "R",
   "language": "R",
   "name": "ir"
  },
  "language_info": {
   "codemirror_mode": "r",
   "file_extension": ".r",
   "mimetype": "text/x-r-source",
   "name": "R",
   "pygments_lexer": "r",
   "version": "3.4.3"
  }
 },
 "nbformat": 4,
 "nbformat_minor": 2
}
