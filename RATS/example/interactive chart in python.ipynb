{
 "cells": [
  {
   "cell_type": "markdown",
   "metadata": {},
   "source": [
    "# Example of an interactive chart \n",
    "\n",
    "In this notebook we will be using 3 tools or `libraries`:\n",
    "1. `pandas` for data analytics\n",
    "2. `altair` for data visualization\n",
    "3. `ipywidgets` for a dropdown menu widget to interact with our chart.\n",
    "\n",
    "Check out their documentation pages to learn more about them:\n",
    "* [pandas docs](https://pandas.pydata.org/pandas-docs/stable/) This one can be kind of dense, I would suggest checking out the `Pandas Cookbook` textbook included in this repo.\n",
    "* [altair](https://altair-viz.github.io) *Altair is a declarative statistical visualization library for Python*\n",
    "* [ipywidgets](https://ipywidgets.readthedocs.io/en/stable/examples/Widget%20Basics.html) *Widgets are eventful python objects that have a representation in the browser, often as a control like a slider, textbox, etc.*"
   ]
  },
  {
   "cell_type": "markdown",
   "metadata": {},
   "source": [
    "***\n",
    "If you ever want to explore a library on the go you can use `jupyter`'s auto-completion feature to see what `methods` a library has (kind of like functions).\n",
    "\n",
    "Underneath, import pandas and in another cell write `pandas.` and hit `tab` (make sure you `import pandas` first)"
   ]
  },
  {
   "cell_type": "code",
   "execution_count": null,
   "metadata": {},
   "outputs": [],
   "source": [
    "import pandas"
   ]
  },
  {
   "cell_type": "code",
   "execution_count": null,
   "metadata": {},
   "outputs": [],
   "source": [
    "pandas.read_csv"
   ]
  },
  {
   "cell_type": "markdown",
   "metadata": {},
   "source": [
    "***\n",
    "With the dropdown menu open start writing `read_csv`. \n",
    "\n",
    "To explore what this function does write a `?` at the end and run the cell. This should bring out the `documentation` (sort of like when you write `<help something>`.\n",
    "\n",
    "Right click on the `cell`'s output will give you the option to *enable scrolling output* in case the output of your cell is too long."
   ]
  },
  {
   "cell_type": "code",
   "execution_count": null,
   "metadata": {},
   "outputs": [],
   "source": [
    "pandas.read_csv?"
   ]
  },
  {
   "cell_type": "markdown",
   "metadata": {},
   "source": [
    "***\n",
    "***\n",
    "Here is an example of how one could write a blog piece in `jupyter`.<br>\n",
    "***"
   ]
  },
  {
   "cell_type": "markdown",
   "metadata": {},
   "source": [
    "# Immigration to California has steadily declined since 2000\n",
    "\n",
    "Draft: May 3rd, 2018\n",
    "\n",
    "Author: Sergio Sanchez\n",
    "\n",
    "Notes: 300-400 words. 2 charts (already selected).\n",
    "\n",
    "***\n",
    "Main points: \n",
    "1. Overall immigration to California has declined drastically since 2000\n",
    "2. Newly arrived immigrants (5 years or less) educational attainment has steadily increased across time. \n",
    "3. About half of newly arrived immigrants in 2016 had completed at least a Bachelor's degree. \n",
    "4. Asia surpassed Latin America as the #1 region of origin of recently arrived immigrants."
   ]
  },
  {
   "cell_type": "markdown",
   "metadata": {},
   "source": [
    "*** \n",
    "**Set Up**"
   ]
  },
  {
   "cell_type": "markdown",
   "metadata": {},
   "source": [
    "We need to import the libraries we will be using"
   ]
  },
  {
   "cell_type": "markdown",
   "metadata": {},
   "source": [
    "If you don't have these libraries already installed you can very easily install them using `pip`! <br>\n",
    "For example, let's say you don't have `altair` installed. You just run `!pip install altair` in a code cell and it'll install the package for you. Try running the code below and install any libraries you don't have installed already."
   ]
  },
  {
   "cell_type": "code",
   "execution_count": null,
   "metadata": {},
   "outputs": [],
   "source": [
    "import pandas as pd\n",
    "import altair as alt\n",
    "from ipywidgets import interact"
   ]
  },
  {
   "cell_type": "markdown",
   "metadata": {},
   "source": [
    "We will import the csv 'immigrants blog post (clean).csv' on a `pandas` dataframe (`df`). <br> The `parse_dates` *argument* is optional. All it does is to tell `pandas` to interpret the column `'year'` as a date. `pandas` is optimized in many ways and intepreting a column as a date (when it is a date) *unlocks* many features that only make sense when you're working with dates."
   ]
  },
  {
   "cell_type": "code",
   "execution_count": null,
   "metadata": {},
   "outputs": [],
   "source": [
    "df = pd.read_csv('immigrants blog post (clean).csv', parse_dates = ['year'], )"
   ]
  },
  {
   "cell_type": "markdown",
   "metadata": {},
   "source": [
    "In the cell below we create a function that takes one *argument* that will be saved into the variable `country` which our function uses. We can set up our function to have a default value like this:\n",
    "```python\n",
    "def bar_chart(country = 'China'):\n",
    "```\n",
    "It's not *necessary* but it doesn't hurt. <br>\n",
    "Run the cell below to create the function and the next cell to use it."
   ]
  },
  {
   "cell_type": "code",
   "execution_count": null,
   "metadata": {},
   "outputs": [],
   "source": [
    "def bar_chart(country):\n",
    "    '''\n",
    "    This function creates an altair barchart. Expect the variable \"country\".\n",
    "    '''\n",
    "    data = df[df['year'] > '1990-01-01'].copy()\n",
    "    data['year'] = data['year'].dt.year\n",
    "    \n",
    "    bar_chart = alt.Chart(data[data['bpld'] == country]).mark_bar().encode(\n",
    "        x = 'year:O',\n",
    "        y = 'perwt',\n",
    "    ).properties(\n",
    "        title = '{country_title}'.format(country_title = country),\n",
    "        width = 500,\n",
    "        height = 300,\n",
    "    )\n",
    "    return bar_chart\n",
    "    \n",
    "top_countries = df.groupby('bpld')['perwt'].sum().to_frame().reset_index().copy()\n",
    "top_countries = top_countries[top_countries['perwt'] >= 5000]\n",
    "top_countries = [country for country in top_countries['bpld']]\n",
    "top_countries.pop(0) # this gets rid of 'Abroad, n.s.' aka the first country in our list"
   ]
  },
  {
   "cell_type": "code",
   "execution_count": null,
   "metadata": {},
   "outputs": [],
   "source": [
    "# Try typing the name of other countries! (Make sure it's capitalized)\n",
    "bar_chart(country = 'China')"
   ]
  },
  {
   "cell_type": "markdown",
   "metadata": {},
   "source": [
    "***\n",
    "Let's explore this function to make more sense of it.\n",
    "\n",
    "the first part cleans the data a little.\n",
    "```python\n",
    "data = df[df['year'] > '1990-01-01'].copy() \n",
    "```\n",
    "This says *from your dataframe df grab the parts were the column 'year' of your dataframe df are greater than 1990-01-01. Make a .copy() of that and save it to the variable data.* Because pandas understands that 'year' is a date it can make sense of what `\"> '1990-01-01'\"` means.\n",
    "```python\n",
    "data['year'] = data['year'].dt.year\n",
    "```\n",
    "This says *from your dataframe `data` grab the column 'year'. `.dt` means interpret this as a `datatime` object (a date). `.year` means grab the year of that date. Now set that to the column 'year' of data.* This essentially overwrites the column `'year'` of your dataframe with just it's own `'year'`. Before this the column was formated as `'1990-01-01'` but now it'll only be `'1990'`. "
   ]
  },
  {
   "cell_type": "markdown",
   "metadata": {},
   "source": [
    "The next part of the function creates the `bar_chart` we want.\n",
    "```python\n",
    "alt.Chart(data[data['bpld'] == country])\n",
    "```\n",
    "means *from that `data` dataframe grab only the values where `'bpld' == country` (which we already defaulted to 'China' but will be whatever value we feed the function `bar_chart()`). With that subset of the dataframe use create an `altair.Chart()`.*\n",
    "\n",
    "```python\n",
    "alt.Chart(data[data['bpld'] == country]).mark_bar()\n",
    "```\n",
    "means the `marks` in this chart will be bars.\n",
    "```python\n",
    "alt.Chart(data[data['bpld'] == country]).mark_bar().encode(\n",
    "    x = 'year:O',\n",
    "    y = 'perwt',\n",
    ")\n",
    "```\n",
    "means *encode the value of 'year' on the X-axis and the value 'perwt' (Person's Weight from the original ACS dataset) on the Y-axis.* You may wonder why there is a '`:O`' after 'year'. This just tells `altair` that these are **ordered** values. Try running the function without the '`:O`'. It should run just the same but it may look a little different. \n",
    "\n",
    "```python\n",
    "alt.Chart(data[data['bpld'] == country]).mark_bar().encode(\n",
    "    x = 'year:O',\n",
    "    y = 'perwt',\n",
    ").properties(\n",
    "    title = '{country_title}'.format(country_title = country),\n",
    "    width = 500,\n",
    "    height = 300,\n",
    ")\n",
    "```\n",
    "means *the `properties` for that Chart you just created are these: the title is whatever the value of the variable `country` is; the width is 500 pixels; the height is 300.* `Altair` is a very customizable library. [Read the docs](altair-viz.github.io) to explore what other values you can throw in there.\n",
    "\n",
    "```python\n",
    "top_countries = df.groupby('bpld')['perwt'].sum().to_frame().reset_index().copy()\n",
    "top_countries = top_countries[top_countries['perwt'] >= 5000]\n",
    "top_countries = [country for country in top_countries['bpld']]\n",
    "top_countries.pop(0) # this gets rid of 'Abroad, n.s.' aka the first country in our list\n",
    "```\n",
    "This is just more data cleaning. We are creating a `list` of `top_countries` which we define as those that have had more than 5,000 people come to California from that country since the year 2000. "
   ]
  },
  {
   "cell_type": "markdown",
   "metadata": {},
   "source": [
    "***\n",
    "### Build on that Chart!\n",
    "\n",
    "1. add `color`\n",
    "  - you can `.encode()` a third value on your Chart. Add `color = alt.Color('agg educd',),` after `y = 'perwt',` and see what happens.\n",
    "2. make it `.interactive()`\n",
    "  - making Charts interactive is very easy in `altair`. Just add `.interactive()` after `.properties()`\n",
    "3. make the axis more readable. \n",
    "  - use \n",
    "  ```python \n",
    "    x = alt.X('year:O', axis = alt.Axis(title='Year')),\n",
    "    y = alt.Y('perwt:Q', axis = alt.Axis(title('Number of People')), \n",
    "    color = alt.Color('agg educd',),\n",
    "  ``` \n",
    "  in your `.encode()` instead of the code you have in there. \n",
    "***\n",
    "**Bonus** \n",
    "\n",
    "Try changing `.mark_bar(...` to `.mark_circle(...` and see what happens. \n",
    "  - `.mark_line(`\n",
    "  - `.mark_square(`\n",
    "  - `.mark_text(` <br>\n",
    "  some are more useful than others. "
   ]
  },
  {
   "cell_type": "markdown",
   "metadata": {},
   "source": [
    "***\n",
    "Now instead of typing in every the name of every country you want to explore, wouldn't it be nice if we just had a list of countries to choose from? We did just create one (`top_countries`).\n",
    "\n",
    "Below you can create a dropdown menu to `interact` with a function. <br>\n",
    "The syntax is as follows:\n",
    "```python\n",
    "interact(function, variable_to_feed_that_function = list_of_values_that_variable_can_take)\n",
    "```\n",
    "our function is `bar_chart` which takes in a variable `country` (which is just the name of a country). For the list of values you could write a list like this:\n",
    "```python\n",
    "['Brazil', 'Colombia', 'Sweden', 'Mexico']\n",
    "```\n",
    "in `python` brackets '[]' mean it is a `list`. \n",
    "\n",
    "However, you already created a list `top_countries`. Run the cell below to see all the values it contains."
   ]
  },
  {
   "cell_type": "code",
   "execution_count": null,
   "metadata": {},
   "outputs": [],
   "source": [
    "top_countries"
   ]
  },
  {
   "cell_type": "markdown",
   "metadata": {},
   "source": [
    "You can feed that `top_countries` list to our `interact()` function. <br> \n",
    "Try it below!"
   ]
  },
  {
   "cell_type": "code",
   "execution_count": null,
   "metadata": {},
   "outputs": [],
   "source": [
    "interact(bar_chart, country = top_countries,);"
   ]
  }
 ],
 "metadata": {
  "kernelspec": {
   "display_name": "Python 3",
   "language": "python",
   "name": "python3"
  },
  "language_info": {
   "codemirror_mode": {
    "name": "ipython",
    "version": 3
   },
   "file_extension": ".py",
   "mimetype": "text/x-python",
   "name": "python",
   "nbconvert_exporter": "python",
   "pygments_lexer": "ipython3",
   "version": "3.6.5"
  }
 },
 "nbformat": 4,
 "nbformat_minor": 2
}
