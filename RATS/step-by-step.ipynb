{
 "cells": [
  {
   "cell_type": "markdown",
   "metadata": {},
   "source": [
    "## How to launch `jupyter lab` on our servers\n",
    "\n",
    "1. **Log into one of our servers where we have `Anaconda` installed.**<br>\n",
    "  You may log into either server like you would any other.\n",
    "  \n",
    "2. **BEFORE** double-clicking on that `jupyter notebook` icon, open up `Google Chrome`<br>\n",
    "  You need to set up `Google Chrome` as your default browser so when `jupyter lab` launches it opens up a `chrome` window and not `internet explorer` :poop:. If you install [anaconda](anaconda.org) on your personal computer you may choose to use/keep `mozilla` as your browser. Just don't use `internet explorer`.\n",
    "  \n",
    "3. **Now that you have set up `chrome` as your default browser there are 3 ways to launch a `jupyter notebook`**<br> \n",
    "  1. You click on the `jupyter notebook` icon on your desktop. <br>\n",
    "      - This will launch a browser window where you will see your files. I recommend choosing either `Desktop` or `Documents` and creating a directory for your `jupyter notebooks` but you may choose to save them anywhere you want. If you already have a workflow set up, keep it.\n",
    "  2. You click on `start` and look for `Anaconda Navigator` in your programs. Click it open and you will see, among other *applications* `jupyter lab` and `jupyter notebook`. I would recommend launching `jupyter lab` since it is a more complete working environment and you may access `jupyter notebooks` from the `lab` as well. <br>\n",
    "  3. **This is more advanced**: instead of opening a `Anaconda Navigator` you may choose to click the `anaconda prompt`. This is a `terminal` and in it you can type in commands for the computer. In here you can type `jupyter lab` or `jupyter notebook` and a browser window will launch. <br>\n"
   ]
  }
 ],
 "metadata": {
  "kernelspec": {
   "display_name": "Python 3",
   "language": "python",
   "name": "python3"
  },
  "language_info": {
   "codemirror_mode": {
    "name": "ipython",
    "version": 3
   },
   "file_extension": ".py",
   "mimetype": "text/x-python",
   "name": "python",
   "nbconvert_exporter": "python",
   "pygments_lexer": "ipython3",
   "version": "3.6.5"
  }
 },
 "nbformat": 4,
 "nbformat_minor": 2
}
