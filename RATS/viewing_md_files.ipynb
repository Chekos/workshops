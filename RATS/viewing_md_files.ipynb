{
 "cells": [
  {
   "cell_type": "markdown",
   "metadata": {},
   "source": [
    "# How to view the .md files\n",
    "\n",
    "***\n",
    "If you double-click the markdown files on the left-hand menu you will `launch` a text editor. Same thing if you drag and drop them on this working area. \n",
    "\n",
    "If you want to *render* the `markdown` text you have to `right-click` the file you want to see and use `Open With > Markdown Preview`"
   ]
  },
  {
   "cell_type": "markdown",
   "metadata": {},
   "source": [
    "![markdown_preview](images/view_markdown.gif)"
   ]
  },
  {
   "cell_type": "markdown",
   "metadata": {},
   "source": [
    "***\n",
    "\n",
    "Another cool thing about `markdown` files is that they you can work on them on the text editor and see a *live* preview of your work"
   ]
  },
  {
   "cell_type": "markdown",
   "metadata": {},
   "source": [
    "![live_preview](images/live_markdown.gif)"
   ]
  }
 ],
 "metadata": {
  "kernelspec": {
   "display_name": "Python 3",
   "language": "python",
   "name": "python3"
  },
  "language_info": {
   "codemirror_mode": {
    "name": "ipython",
    "version": 3
   },
   "file_extension": ".py",
   "mimetype": "text/x-python",
   "name": "python",
   "nbconvert_exporter": "python",
   "pygments_lexer": "ipython3",
   "version": "3.6.3"
  }
 },
 "nbformat": 4,
 "nbformat_minor": 2
}
