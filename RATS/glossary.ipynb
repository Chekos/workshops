{
 "cells": [
  {
   "cell_type": "markdown",
   "metadata": {},
   "source": [
    "## Glossary\n",
    "\n",
    "**Anaconda**: \"*With over 6 million users, the open source Anaconda Distribution is the fastest and easiest way to do Python and R data science and machine learning on Linux, Windows, and Mac OS X. It's the industry standard for developing, testing, and training on a single machine.*\" - Anaconda.org\n",
    "\n",
    "**Jupyter Notebook**: \"*The Jupyter Notebook is an open-source web application that allows you to create and share documents that contain live code, equations, visualizations and narrative text. Uses include: data cleaning and transformation, numerical simulation, statistical modeling, data visualization, machine learning, and much more.*\" - Jupyter.org\n",
    "\n",
    "**.ipynb**: file extension for Jupyter Notebooks (comes from \"IPython Notebook\"). You **can't** double-click a `.ipynb` file like you would an excel or word file to open because `jupyter` is not a program. You will need to launch `jupyter lab` (or a `notebook`) to interact with the `.ipynb` file.\n",
    "\n",
    "**Code cell**: \"*A code cell allows you to edit and write new code, with full syntax highlighting and tab completion. The programming language you use depends on the kernel, and the default kernel (IPython) runs Python code.*\"\n",
    "\n",
    "More in the [documentation](https://jupyter-notebook.readthedocs.io/en/stable/notebook.html)\n"
   ]
  }
 ],
 "metadata": {
  "kernelspec": {
   "display_name": "Python 3",
   "language": "python",
   "name": "python3"
  },
  "language_info": {
   "codemirror_mode": {
    "name": "ipython",
    "version": 3
   },
   "file_extension": ".py",
   "mimetype": "text/x-python",
   "name": "python",
   "nbconvert_exporter": "python",
   "pygments_lexer": "ipython3",
   "version": "3.6.5"
  }
 },
 "nbformat": 4,
 "nbformat_minor": 2
}
