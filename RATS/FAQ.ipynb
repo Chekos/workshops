{
 "cells": [
  {
   "cell_type": "markdown",
   "metadata": {
    "slideshow": {
     "slide_type": "slide"
    }
   },
   "source": [
    "### Frequently Asked Questions:"
   ]
  },
  {
   "cell_type": "markdown",
   "metadata": {
    "slideshow": {
     "slide_type": "subslide"
    }
   },
   "source": [
    "1. **What is Jupyter and why would I use it?** <br>\n",
    "  `Jupyter Notebooks` and `Jupyter Lab` are just ways to interact with your code. A `Jupyter Notebook` is a document where one can insert `code`, images, audio, rich formatted text, etc. `Jupyter Lab` is a working environment more suited for our workflow where one open multiple views (to the dataset, the notebook, other related documents like PDFs, etc). `Jupyter Lab` and `Notebooks` are perfect for exploratory and explanatory data analysis but can be used for larger endeavors as well."
   ]
  },
  {
   "cell_type": "markdown",
   "metadata": {
    "slideshow": {
     "slide_type": "subslide"
    }
   },
   "source": [
    "2. **How do I get Jupyter?** <br>\n",
    "  The easiest way to get Jupyter is through [Anaconda](anaconda.org). At PPIC, we already have Anaconda installed in our servers `berryessa` and `tahoe` (as of right now). Follow this [step-by-step guide](/step-by-step.md) to launch `Jupyter Lab` for the first time in the server.\n",
    "  "
   ]
  },
  {
   "cell_type": "markdown",
   "metadata": {
    "slideshow": {
     "slide_type": "subslide"
    }
   },
   "source": [
    "3. **Is my data safe when I use `Jupyter Lab` (or `notebooks`)?** <br>\n",
    "  Yes. Launching `Jupyter Lab` (or `notebooks`) will open up a browser window where you will be working but you are **not** *on* the internet. If you are using `jupyter lab` in our servers you will **not** have access to the internet because you have access to the `Z://` drive where confidential data is stored. If you launch `jupyter lab` (or `notebooks`) on your personal computer you will have access to the internet but your `notebooks` and data are **not** on the internet. What you see in our browser is just a view into your computers' file system (or the `C://` drive.\n",
    "  "
   ]
  },
  {
   "cell_type": "markdown",
   "metadata": {
    "slideshow": {
     "slide_type": "subslide"
    }
   },
   "source": [
    "4. **I don't know `python` or `R`, is `jupyter` of any use to me?** <br>\n",
    "  Yes! `Jupyter` started with `python` and then adopted `R` and `Julia` (hence, Ju-pyt-R) but it now supports 40+ programming languages and has multiple `kernels` for many (a `kernel` is just like the engine that makes a `jupyter notebook` run - the language interpreter of whatever you chose to code in). Soon we may have everyone's favorite: `STATA`!! This will mean we can have `STATA notebooks` and can reuse any code you've already written.\n",
    "  "
   ]
  },
  {
   "cell_type": "markdown",
   "metadata": {
    "slideshow": {
     "slide_type": "subslide"
    }
   },
   "source": [
    "5. **Why should I learn a this tool?** <br>\n",
    "  The `jupyter` toolset has the potential to improve one's workflow by giving one the ability to create rich formatted documents where one can iterate and explore data in a way unmatched by other platforms. It is also open-sourced and widely accepted in most scientific communities nowadays. This means improved reproducibility and shareability of research code and tools. For example, the Urban Institute periodically shares tutorials on how they use these tools for their research [GitHub - PySpark for Social Science](https://github.com/UrbanInstitute/pyspark-tutorials). "
   ]
  },
  {
   "cell_type": "markdown",
   "metadata": {
    "slideshow": {
     "slide_type": "subslide"
    }
   },
   "source": [
    "6. **I tried to open a `.ipynb` file and it asked me for a program to open it.** <br>\n",
    "  You cannot open a `.ipynb` file by double-clicking it. You *must* launch `jupyter lab` (or `notebook`) to interact with `.ipynb` files.\n",
    "  "
   ]
  },
  {
   "cell_type": "markdown",
   "metadata": {
    "slideshow": {
     "slide_type": "subslide"
    }
   },
   "source": [
    "7. **How do I install a new package (like `ssc` in `STATA`)?** <br>\n",
    "  If you are using `jupyter lab` (or `notebook`) in our servers you **cannot** install packages yourself because these servers are *offline* to protect confidential data in the `Z://` drive. You may contact IT to install whatever package you need. \n",
    "  If you are using `jupyter lab` (or `notebook`) in your personal computer you can use the command `pip install <PACKAGE-NAME>` in a `terminal` window or add `!` before the command if you will run it from a cell in a `jupyter notebook`. For example, if you want to install the visualization package `altair` you can run `!pip install altair` from a `jupyter notebook` or `pip install altair` from a `terminal` window. "
   ]
  }
 ],
 "metadata": {
  "celltoolbar": "Slideshow",
  "kernelspec": {
   "display_name": "Python 3",
   "language": "python",
   "name": "python3"
  },
  "language_info": {
   "codemirror_mode": {
    "name": "ipython",
    "version": 3
   },
   "file_extension": ".py",
   "mimetype": "text/x-python",
   "name": "python",
   "nbconvert_exporter": "python",
   "pygments_lexer": "ipython3",
   "version": "3.6.5"
  }
 },
 "nbformat": 4,
 "nbformat_minor": 2
}
